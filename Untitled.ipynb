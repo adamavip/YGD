{
 "cells": [
  {
   "cell_type": "markdown",
   "id": "b44d5ced-0412-445a-bf27-b3369ecc8a78",
   "metadata": {},
   "source": [
    "# Predicting grain yield using ML"
   ]
  },
  {
   "cell_type": "code",
   "execution_count": 151,
   "id": "edd0bad6-b5f3-45f5-810d-e5f8a759323f",
   "metadata": {},
   "outputs": [],
   "source": [
    "import numpy as np\n",
    "import pandas as pd\n",
    "import matplotlib.pyplot as plt\n",
    "import seaborn as sns\n",
    "from sklearn.preprocessing import MinMaxScaler, StandardScaler\n",
    "from sklearn.ensemble import ExtraTreesRegressor\n",
    "from sklearn.model_selection import train_test_split\n",
    "from sklearn.ensemble import RandomForestRegressor\n",
    "from sklearn.model_selection import RandomizedSearchCV\n",
    "from sklearn.metrics import mean_squared_error, r2_score"
   ]
  },
  {
   "cell_type": "markdown",
   "id": "be2869c9-a56a-40c8-a1fe-644d20d5dd72",
   "metadata": {},
   "source": [
    "### Load the data"
   ]
  },
  {
   "cell_type": "code",
   "execution_count": 152,
   "id": "3dd6514b-5e56-4f49-a66d-a881ba9eff8b",
   "metadata": {},
   "outputs": [],
   "source": [
    "df = pd.read_csv(\"C:/Users/Adama/OneDrive - CIMMYT/Documents/Data/CIMMYT/Hari/pooled_data_wheat.csv\")"
   ]
  },
  {
   "cell_type": "code",
   "execution_count": 153,
   "id": "48ed95c2-3ecb-451c-ada6-df1cecbe3389",
   "metadata": {},
   "outputs": [
    {
     "data": {
      "text/html": [
       "<div>\n",
       "<style scoped>\n",
       "    .dataframe tbody tr th:only-of-type {\n",
       "        vertical-align: middle;\n",
       "    }\n",
       "\n",
       "    .dataframe tbody tr th {\n",
       "        vertical-align: top;\n",
       "    }\n",
       "\n",
       "    .dataframe thead th {\n",
       "        text-align: right;\n",
       "    }\n",
       "</style>\n",
       "<table border=\"1\" class=\"dataframe\">\n",
       "  <thead>\n",
       "    <tr style=\"text-align: right;\">\n",
       "      <th></th>\n",
       "      <th>cc_yield</th>\n",
       "      <th>total_nitrogen_ha</th>\n",
       "      <th>weed_severity</th>\n",
       "      <th>insect_severity</th>\n",
       "      <th>disease_severity</th>\n",
       "      <th>rice_till</th>\n",
       "      <th>till_int</th>\n",
       "      <th>irri_num</th>\n",
       "      <th>variety_nameIn</th>\n",
       "      <th>residue</th>\n",
       "      <th>...</th>\n",
       "      <th>lodging_cat</th>\n",
       "      <th>date_sowin</th>\n",
       "      <th>dat_urea1</th>\n",
       "      <th>dat_urea2</th>\n",
       "      <th>fallow_days</th>\n",
       "      <th>Max_temperature</th>\n",
       "      <th>Min_temperature</th>\n",
       "      <th>Precipitation_Accumulated</th>\n",
       "      <th>radiation</th>\n",
       "      <th>Texture</th>\n",
       "    </tr>\n",
       "  </thead>\n",
       "  <tbody>\n",
       "    <tr>\n",
       "      <th>0</th>\n",
       "      <td>3474.685703</td>\n",
       "      <td>182.25</td>\n",
       "      <td>Low</td>\n",
       "      <td>None</td>\n",
       "      <td>None</td>\n",
       "      <td>&lt;=4</td>\n",
       "      <td>ZT/MT</td>\n",
       "      <td>&lt;=2</td>\n",
       "      <td>WH 1105</td>\n",
       "      <td>80_100</td>\n",
       "      <td>...</td>\n",
       "      <td>30</td>\n",
       "      <td>297</td>\n",
       "      <td>28</td>\n",
       "      <td>45</td>\n",
       "      <td>13.0</td>\n",
       "      <td>22.145175</td>\n",
       "      <td>10.607661</td>\n",
       "      <td>236.418439</td>\n",
       "      <td>74.771584</td>\n",
       "      <td>loam</td>\n",
       "    </tr>\n",
       "    <tr>\n",
       "      <th>1</th>\n",
       "      <td>5085.600000</td>\n",
       "      <td>182.25</td>\n",
       "      <td>No</td>\n",
       "      <td>Medium</td>\n",
       "      <td>Medium</td>\n",
       "      <td>6</td>\n",
       "      <td>ZT/MT</td>\n",
       "      <td>3</td>\n",
       "      <td>HD 2967</td>\n",
       "      <td>80_100</td>\n",
       "      <td>...</td>\n",
       "      <td>No</td>\n",
       "      <td>300</td>\n",
       "      <td>30</td>\n",
       "      <td>45</td>\n",
       "      <td>4.0</td>\n",
       "      <td>22.139472</td>\n",
       "      <td>10.608253</td>\n",
       "      <td>243.014239</td>\n",
       "      <td>75.249800</td>\n",
       "      <td>clay_loam</td>\n",
       "    </tr>\n",
       "    <tr>\n",
       "      <th>2</th>\n",
       "      <td>5085.600000</td>\n",
       "      <td>177.75</td>\n",
       "      <td>No</td>\n",
       "      <td>Medium</td>\n",
       "      <td>Medium</td>\n",
       "      <td>&lt;=4</td>\n",
       "      <td>ZT/MT</td>\n",
       "      <td>&lt;=2</td>\n",
       "      <td>Other</td>\n",
       "      <td>80_100</td>\n",
       "      <td>...</td>\n",
       "      <td>No</td>\n",
       "      <td>311</td>\n",
       "      <td>30</td>\n",
       "      <td>45</td>\n",
       "      <td>6.0</td>\n",
       "      <td>22.250795</td>\n",
       "      <td>10.382189</td>\n",
       "      <td>220.780424</td>\n",
       "      <td>76.889344</td>\n",
       "      <td>loam</td>\n",
       "    </tr>\n",
       "    <tr>\n",
       "      <th>3</th>\n",
       "      <td>5547.901371</td>\n",
       "      <td>177.75</td>\n",
       "      <td>Medium</td>\n",
       "      <td>Medium</td>\n",
       "      <td>Medium</td>\n",
       "      <td>&lt;=4</td>\n",
       "      <td>ZT/MT</td>\n",
       "      <td>&lt;=2</td>\n",
       "      <td>HD 2967</td>\n",
       "      <td>80_100</td>\n",
       "      <td>...</td>\n",
       "      <td>No</td>\n",
       "      <td>308</td>\n",
       "      <td>28</td>\n",
       "      <td>39</td>\n",
       "      <td>35.0</td>\n",
       "      <td>23.223480</td>\n",
       "      <td>11.554335</td>\n",
       "      <td>207.256812</td>\n",
       "      <td>79.786249</td>\n",
       "      <td>loam</td>\n",
       "    </tr>\n",
       "    <tr>\n",
       "      <th>4</th>\n",
       "      <td>6275.475000</td>\n",
       "      <td>126.00</td>\n",
       "      <td>Medium</td>\n",
       "      <td>Medium</td>\n",
       "      <td>Medium</td>\n",
       "      <td>&lt;=4</td>\n",
       "      <td>ZT/MT</td>\n",
       "      <td>&lt;=2</td>\n",
       "      <td>HD 2967</td>\n",
       "      <td>80_100</td>\n",
       "      <td>...</td>\n",
       "      <td>No</td>\n",
       "      <td>315</td>\n",
       "      <td>25</td>\n",
       "      <td>35</td>\n",
       "      <td>25.0</td>\n",
       "      <td>22.264283</td>\n",
       "      <td>10.440228</td>\n",
       "      <td>269.869157</td>\n",
       "      <td>78.579883</td>\n",
       "      <td>loam</td>\n",
       "    </tr>\n",
       "  </tbody>\n",
       "</table>\n",
       "<p>5 rows × 23 columns</p>\n",
       "</div>"
      ],
      "text/plain": [
       "      cc_yield  total_nitrogen_ha weed_severity insect_severity  \\\n",
       "0  3474.685703             182.25           Low            None   \n",
       "1  5085.600000             182.25            No          Medium   \n",
       "2  5085.600000             177.75            No          Medium   \n",
       "3  5547.901371             177.75        Medium          Medium   \n",
       "4  6275.475000             126.00        Medium          Medium   \n",
       "\n",
       "  disease_severity rice_till till_int irri_num variety_nameIn residue  ...  \\\n",
       "0             None       <=4    ZT/MT      <=2        WH 1105  80_100  ...   \n",
       "1           Medium         6    ZT/MT        3        HD 2967  80_100  ...   \n",
       "2           Medium       <=4    ZT/MT      <=2          Other  80_100  ...   \n",
       "3           Medium       <=4    ZT/MT      <=2        HD 2967  80_100  ...   \n",
       "4           Medium       <=4    ZT/MT      <=2        HD 2967  80_100  ...   \n",
       "\n",
       "   lodging_cat  date_sowin  dat_urea1 dat_urea2  fallow_days  Max_temperature  \\\n",
       "0           30         297         28        45         13.0        22.145175   \n",
       "1           No         300         30        45          4.0        22.139472   \n",
       "2           No         311         30        45          6.0        22.250795   \n",
       "3           No         308         28        39         35.0        23.223480   \n",
       "4           No         315         25        35         25.0        22.264283   \n",
       "\n",
       "   Min_temperature  Precipitation_Accumulated  radiation    Texture  \n",
       "0        10.607661                 236.418439  74.771584       loam  \n",
       "1        10.608253                 243.014239  75.249800  clay_loam  \n",
       "2        10.382189                 220.780424  76.889344       loam  \n",
       "3        11.554335                 207.256812  79.786249       loam  \n",
       "4        10.440228                 269.869157  78.579883       loam  \n",
       "\n",
       "[5 rows x 23 columns]"
      ]
     },
     "execution_count": 153,
     "metadata": {},
     "output_type": "execute_result"
    }
   ],
   "source": [
    "df.head()"
   ]
  },
  {
   "cell_type": "code",
   "execution_count": 154,
   "id": "c2e04428-3940-4de0-a67b-db496ce7ce22",
   "metadata": {},
   "outputs": [
    {
     "name": "stdout",
     "output_type": "stream",
     "text": [
      "<class 'pandas.core.frame.DataFrame'>\n",
      "RangeIndex: 6139 entries, 0 to 6138\n",
      "Data columns (total 23 columns):\n",
      " #   Column                     Non-Null Count  Dtype  \n",
      "---  ------                     --------------  -----  \n",
      " 0   cc_yield                   6139 non-null   float64\n",
      " 1   total_nitrogen_ha          6139 non-null   float64\n",
      " 2   weed_severity              6139 non-null   object \n",
      " 3   insect_severity            6139 non-null   object \n",
      " 4   disease_severity           6139 non-null   object \n",
      " 5   rice_till                  6139 non-null   object \n",
      " 6   till_int                   6139 non-null   object \n",
      " 7   irri_num                   6139 non-null   object \n",
      " 8   variety_nameIn             6139 non-null   object \n",
      " 9   residue                    6139 non-null   object \n",
      " 10  duration                   6139 non-null   int64  \n",
      " 11  seed_amount                6139 non-null   int64  \n",
      " 12  tot_p2o5_ha                6139 non-null   float64\n",
      " 13  lodging_cat                6139 non-null   object \n",
      " 14  date_sowin                 6139 non-null   int64  \n",
      " 15  dat_urea1                  6139 non-null   int64  \n",
      " 16  dat_urea2                  6139 non-null   int64  \n",
      " 17  fallow_days                6139 non-null   float64\n",
      " 18  Max_temperature            6139 non-null   float64\n",
      " 19  Min_temperature            6139 non-null   float64\n",
      " 20  Precipitation_Accumulated  6139 non-null   float64\n",
      " 21  radiation                  6139 non-null   float64\n",
      " 22  Texture                    6139 non-null   object \n",
      "dtypes: float64(8), int64(5), object(10)\n",
      "memory usage: 1.1+ MB\n"
     ]
    }
   ],
   "source": [
    "# Structure of the data\n",
    "df.info()"
   ]
  },
  {
   "cell_type": "code",
   "execution_count": 155,
   "id": "07ee2b2a-89e7-4867-bd5d-d23b91558cc5",
   "metadata": {},
   "outputs": [
    {
     "data": {
      "text/plain": [
       "(6139, 23)"
      ]
     },
     "execution_count": 155,
     "metadata": {},
     "output_type": "execute_result"
    }
   ],
   "source": [
    "# Shape\n",
    "df.shape"
   ]
  },
  {
   "cell_type": "markdown",
   "id": "654a6d97-df59-4abf-8625-b469cac0ede7",
   "metadata": {},
   "source": [
    "### Basic statistics"
   ]
  },
  {
   "cell_type": "code",
   "execution_count": 156,
   "id": "d6bf717f-ab71-468c-a57f-65b82acc0c49",
   "metadata": {},
   "outputs": [
    {
     "data": {
      "text/html": [
       "<div>\n",
       "<style scoped>\n",
       "    .dataframe tbody tr th:only-of-type {\n",
       "        vertical-align: middle;\n",
       "    }\n",
       "\n",
       "    .dataframe tbody tr th {\n",
       "        vertical-align: top;\n",
       "    }\n",
       "\n",
       "    .dataframe thead th {\n",
       "        text-align: right;\n",
       "    }\n",
       "</style>\n",
       "<table border=\"1\" class=\"dataframe\">\n",
       "  <thead>\n",
       "    <tr style=\"text-align: right;\">\n",
       "      <th></th>\n",
       "      <th>cc_yield</th>\n",
       "      <th>total_nitrogen_ha</th>\n",
       "      <th>duration</th>\n",
       "      <th>seed_amount</th>\n",
       "      <th>tot_p2o5_ha</th>\n",
       "      <th>date_sowin</th>\n",
       "      <th>dat_urea1</th>\n",
       "      <th>dat_urea2</th>\n",
       "      <th>fallow_days</th>\n",
       "      <th>Max_temperature</th>\n",
       "      <th>Min_temperature</th>\n",
       "      <th>Precipitation_Accumulated</th>\n",
       "      <th>radiation</th>\n",
       "    </tr>\n",
       "  </thead>\n",
       "  <tbody>\n",
       "    <tr>\n",
       "      <th>count</th>\n",
       "      <td>6139.000000</td>\n",
       "      <td>6139.000000</td>\n",
       "      <td>6139.000000</td>\n",
       "      <td>6139.000000</td>\n",
       "      <td>6139.000000</td>\n",
       "      <td>6139.000000</td>\n",
       "      <td>6139.000000</td>\n",
       "      <td>6139.000000</td>\n",
       "      <td>6139.000000</td>\n",
       "      <td>6139.000000</td>\n",
       "      <td>6139.000000</td>\n",
       "      <td>6139.000000</td>\n",
       "      <td>6139.000000</td>\n",
       "    </tr>\n",
       "    <tr>\n",
       "      <th>mean</th>\n",
       "      <td>4909.848850</td>\n",
       "      <td>161.475573</td>\n",
       "      <td>161.286529</td>\n",
       "      <td>44.525493</td>\n",
       "      <td>63.912634</td>\n",
       "      <td>312.058804</td>\n",
       "      <td>26.140902</td>\n",
       "      <td>38.899169</td>\n",
       "      <td>17.854080</td>\n",
       "      <td>24.121939</td>\n",
       "      <td>11.283650</td>\n",
       "      <td>150.817763</td>\n",
       "      <td>81.786006</td>\n",
       "    </tr>\n",
       "    <tr>\n",
       "      <th>std</th>\n",
       "      <td>616.447078</td>\n",
       "      <td>19.633992</td>\n",
       "      <td>7.640260</td>\n",
       "      <td>4.256534</td>\n",
       "      <td>10.889281</td>\n",
       "      <td>6.463016</td>\n",
       "      <td>3.306666</td>\n",
       "      <td>4.302594</td>\n",
       "      <td>8.406075</td>\n",
       "      <td>0.978311</td>\n",
       "      <td>0.500420</td>\n",
       "      <td>89.190179</td>\n",
       "      <td>3.116490</td>\n",
       "    </tr>\n",
       "    <tr>\n",
       "      <th>min</th>\n",
       "      <td>2364.400000</td>\n",
       "      <td>90.125000</td>\n",
       "      <td>131.000000</td>\n",
       "      <td>35.000000</td>\n",
       "      <td>0.100000</td>\n",
       "      <td>288.000000</td>\n",
       "      <td>10.000000</td>\n",
       "      <td>20.000000</td>\n",
       "      <td>0.000000</td>\n",
       "      <td>21.212082</td>\n",
       "      <td>9.678901</td>\n",
       "      <td>54.902458</td>\n",
       "      <td>73.230338</td>\n",
       "    </tr>\n",
       "    <tr>\n",
       "      <th>25%</th>\n",
       "      <td>4593.737500</td>\n",
       "      <td>151.300000</td>\n",
       "      <td>156.000000</td>\n",
       "      <td>40.000000</td>\n",
       "      <td>57.500000</td>\n",
       "      <td>308.000000</td>\n",
       "      <td>24.000000</td>\n",
       "      <td>36.000000</td>\n",
       "      <td>10.000000</td>\n",
       "      <td>23.252397</td>\n",
       "      <td>10.904509</td>\n",
       "      <td>85.638226</td>\n",
       "      <td>79.766281</td>\n",
       "    </tr>\n",
       "    <tr>\n",
       "      <th>50%</th>\n",
       "      <td>4987.150000</td>\n",
       "      <td>167.750000</td>\n",
       "      <td>161.000000</td>\n",
       "      <td>45.000000</td>\n",
       "      <td>57.500000</td>\n",
       "      <td>312.000000</td>\n",
       "      <td>26.000000</td>\n",
       "      <td>38.000000</td>\n",
       "      <td>19.000000</td>\n",
       "      <td>24.477358</td>\n",
       "      <td>11.318533</td>\n",
       "      <td>99.083178</td>\n",
       "      <td>81.327683</td>\n",
       "    </tr>\n",
       "    <tr>\n",
       "      <th>75%</th>\n",
       "      <td>5280.553977</td>\n",
       "      <td>172.750000</td>\n",
       "      <td>167.000000</td>\n",
       "      <td>45.000000</td>\n",
       "      <td>69.000000</td>\n",
       "      <td>316.000000</td>\n",
       "      <td>28.000000</td>\n",
       "      <td>42.000000</td>\n",
       "      <td>25.000000</td>\n",
       "      <td>24.897207</td>\n",
       "      <td>11.684307</td>\n",
       "      <td>234.592508</td>\n",
       "      <td>84.366241</td>\n",
       "    </tr>\n",
       "    <tr>\n",
       "      <th>max</th>\n",
       "      <td>7311.650000</td>\n",
       "      <td>227.000000</td>\n",
       "      <td>191.000000</td>\n",
       "      <td>65.000000</td>\n",
       "      <td>97.750000</td>\n",
       "      <td>343.000000</td>\n",
       "      <td>40.000000</td>\n",
       "      <td>60.000000</td>\n",
       "      <td>36.000000</td>\n",
       "      <td>25.968224</td>\n",
       "      <td>12.445913</td>\n",
       "      <td>416.178766</td>\n",
       "      <td>90.202526</td>\n",
       "    </tr>\n",
       "  </tbody>\n",
       "</table>\n",
       "</div>"
      ],
      "text/plain": [
       "          cc_yield  total_nitrogen_ha     duration  seed_amount  tot_p2o5_ha  \\\n",
       "count  6139.000000        6139.000000  6139.000000  6139.000000  6139.000000   \n",
       "mean   4909.848850         161.475573   161.286529    44.525493    63.912634   \n",
       "std     616.447078          19.633992     7.640260     4.256534    10.889281   \n",
       "min    2364.400000          90.125000   131.000000    35.000000     0.100000   \n",
       "25%    4593.737500         151.300000   156.000000    40.000000    57.500000   \n",
       "50%    4987.150000         167.750000   161.000000    45.000000    57.500000   \n",
       "75%    5280.553977         172.750000   167.000000    45.000000    69.000000   \n",
       "max    7311.650000         227.000000   191.000000    65.000000    97.750000   \n",
       "\n",
       "        date_sowin    dat_urea1    dat_urea2  fallow_days  Max_temperature  \\\n",
       "count  6139.000000  6139.000000  6139.000000  6139.000000      6139.000000   \n",
       "mean    312.058804    26.140902    38.899169    17.854080        24.121939   \n",
       "std       6.463016     3.306666     4.302594     8.406075         0.978311   \n",
       "min     288.000000    10.000000    20.000000     0.000000        21.212082   \n",
       "25%     308.000000    24.000000    36.000000    10.000000        23.252397   \n",
       "50%     312.000000    26.000000    38.000000    19.000000        24.477358   \n",
       "75%     316.000000    28.000000    42.000000    25.000000        24.897207   \n",
       "max     343.000000    40.000000    60.000000    36.000000        25.968224   \n",
       "\n",
       "       Min_temperature  Precipitation_Accumulated    radiation  \n",
       "count      6139.000000                6139.000000  6139.000000  \n",
       "mean         11.283650                 150.817763    81.786006  \n",
       "std           0.500420                  89.190179     3.116490  \n",
       "min           9.678901                  54.902458    73.230338  \n",
       "25%          10.904509                  85.638226    79.766281  \n",
       "50%          11.318533                  99.083178    81.327683  \n",
       "75%          11.684307                 234.592508    84.366241  \n",
       "max          12.445913                 416.178766    90.202526  "
      ]
     },
     "execution_count": 156,
     "metadata": {},
     "output_type": "execute_result"
    }
   ],
   "source": [
    "df.describe()"
   ]
  },
  {
   "cell_type": "markdown",
   "id": "59e06da4-156f-42f6-9982-1470e7e79620",
   "metadata": {},
   "source": [
    "### Preprocessing the data"
   ]
  },
  {
   "cell_type": "code",
   "execution_count": 157,
   "id": "1521171c-caee-4c90-8f9a-1d3b1c28492a",
   "metadata": {},
   "outputs": [
    {
     "data": {
      "text/html": [
       "<div>\n",
       "<style scoped>\n",
       "    .dataframe tbody tr th:only-of-type {\n",
       "        vertical-align: middle;\n",
       "    }\n",
       "\n",
       "    .dataframe tbody tr th {\n",
       "        vertical-align: top;\n",
       "    }\n",
       "\n",
       "    .dataframe thead th {\n",
       "        text-align: right;\n",
       "    }\n",
       "</style>\n",
       "<table border=\"1\" class=\"dataframe\">\n",
       "  <thead>\n",
       "    <tr style=\"text-align: right;\">\n",
       "      <th></th>\n",
       "      <th>cc_yield</th>\n",
       "      <th>total_nitrogen_ha</th>\n",
       "      <th>duration</th>\n",
       "      <th>seed_amount</th>\n",
       "      <th>tot_p2o5_ha</th>\n",
       "      <th>date_sowin</th>\n",
       "      <th>dat_urea1</th>\n",
       "      <th>dat_urea2</th>\n",
       "      <th>fallow_days</th>\n",
       "      <th>Max_temperature</th>\n",
       "      <th>...</th>\n",
       "      <th>variety_nameIn_WH 1105</th>\n",
       "      <th>residue_5_20</th>\n",
       "      <th>residue_80_100</th>\n",
       "      <th>residue_No</th>\n",
       "      <th>lodging_cat_20</th>\n",
       "      <th>lodging_cat_30</th>\n",
       "      <th>lodging_cat_&gt;30</th>\n",
       "      <th>lodging_cat_No</th>\n",
       "      <th>Texture_clay_loam</th>\n",
       "      <th>Texture_loam</th>\n",
       "    </tr>\n",
       "  </thead>\n",
       "  <tbody>\n",
       "    <tr>\n",
       "      <th>0</th>\n",
       "      <td>3474.685703</td>\n",
       "      <td>182.25</td>\n",
       "      <td>177</td>\n",
       "      <td>50</td>\n",
       "      <td>69.0</td>\n",
       "      <td>297</td>\n",
       "      <td>28</td>\n",
       "      <td>45</td>\n",
       "      <td>13.0</td>\n",
       "      <td>22.145175</td>\n",
       "      <td>...</td>\n",
       "      <td>1</td>\n",
       "      <td>0</td>\n",
       "      <td>1</td>\n",
       "      <td>0</td>\n",
       "      <td>0</td>\n",
       "      <td>1</td>\n",
       "      <td>0</td>\n",
       "      <td>0</td>\n",
       "      <td>0</td>\n",
       "      <td>1</td>\n",
       "    </tr>\n",
       "    <tr>\n",
       "      <th>1</th>\n",
       "      <td>5085.600000</td>\n",
       "      <td>182.25</td>\n",
       "      <td>176</td>\n",
       "      <td>40</td>\n",
       "      <td>69.0</td>\n",
       "      <td>300</td>\n",
       "      <td>30</td>\n",
       "      <td>45</td>\n",
       "      <td>4.0</td>\n",
       "      <td>22.139472</td>\n",
       "      <td>...</td>\n",
       "      <td>0</td>\n",
       "      <td>0</td>\n",
       "      <td>1</td>\n",
       "      <td>0</td>\n",
       "      <td>0</td>\n",
       "      <td>0</td>\n",
       "      <td>0</td>\n",
       "      <td>1</td>\n",
       "      <td>1</td>\n",
       "      <td>0</td>\n",
       "    </tr>\n",
       "    <tr>\n",
       "      <th>2</th>\n",
       "      <td>5085.600000</td>\n",
       "      <td>177.75</td>\n",
       "      <td>167</td>\n",
       "      <td>50</td>\n",
       "      <td>57.5</td>\n",
       "      <td>311</td>\n",
       "      <td>30</td>\n",
       "      <td>45</td>\n",
       "      <td>6.0</td>\n",
       "      <td>22.250795</td>\n",
       "      <td>...</td>\n",
       "      <td>0</td>\n",
       "      <td>0</td>\n",
       "      <td>1</td>\n",
       "      <td>0</td>\n",
       "      <td>0</td>\n",
       "      <td>0</td>\n",
       "      <td>0</td>\n",
       "      <td>1</td>\n",
       "      <td>0</td>\n",
       "      <td>1</td>\n",
       "    </tr>\n",
       "    <tr>\n",
       "      <th>3</th>\n",
       "      <td>5547.901371</td>\n",
       "      <td>177.75</td>\n",
       "      <td>163</td>\n",
       "      <td>40</td>\n",
       "      <td>57.5</td>\n",
       "      <td>308</td>\n",
       "      <td>28</td>\n",
       "      <td>39</td>\n",
       "      <td>35.0</td>\n",
       "      <td>23.223480</td>\n",
       "      <td>...</td>\n",
       "      <td>0</td>\n",
       "      <td>0</td>\n",
       "      <td>1</td>\n",
       "      <td>0</td>\n",
       "      <td>0</td>\n",
       "      <td>0</td>\n",
       "      <td>0</td>\n",
       "      <td>1</td>\n",
       "      <td>0</td>\n",
       "      <td>1</td>\n",
       "    </tr>\n",
       "    <tr>\n",
       "      <th>4</th>\n",
       "      <td>6275.475000</td>\n",
       "      <td>126.00</td>\n",
       "      <td>155</td>\n",
       "      <td>40</td>\n",
       "      <td>57.5</td>\n",
       "      <td>315</td>\n",
       "      <td>25</td>\n",
       "      <td>35</td>\n",
       "      <td>25.0</td>\n",
       "      <td>22.264283</td>\n",
       "      <td>...</td>\n",
       "      <td>0</td>\n",
       "      <td>0</td>\n",
       "      <td>1</td>\n",
       "      <td>0</td>\n",
       "      <td>0</td>\n",
       "      <td>0</td>\n",
       "      <td>0</td>\n",
       "      <td>1</td>\n",
       "      <td>0</td>\n",
       "      <td>1</td>\n",
       "    </tr>\n",
       "  </tbody>\n",
       "</table>\n",
       "<p>5 rows × 47 columns</p>\n",
       "</div>"
      ],
      "text/plain": [
       "      cc_yield  total_nitrogen_ha  duration  seed_amount  tot_p2o5_ha  \\\n",
       "0  3474.685703             182.25       177           50         69.0   \n",
       "1  5085.600000             182.25       176           40         69.0   \n",
       "2  5085.600000             177.75       167           50         57.5   \n",
       "3  5547.901371             177.75       163           40         57.5   \n",
       "4  6275.475000             126.00       155           40         57.5   \n",
       "\n",
       "   date_sowin  dat_urea1  dat_urea2  fallow_days  Max_temperature  ...  \\\n",
       "0         297         28         45         13.0        22.145175  ...   \n",
       "1         300         30         45          4.0        22.139472  ...   \n",
       "2         311         30         45          6.0        22.250795  ...   \n",
       "3         308         28         39         35.0        23.223480  ...   \n",
       "4         315         25         35         25.0        22.264283  ...   \n",
       "\n",
       "   variety_nameIn_WH 1105  residue_5_20  residue_80_100  residue_No  \\\n",
       "0                       1             0               1           0   \n",
       "1                       0             0               1           0   \n",
       "2                       0             0               1           0   \n",
       "3                       0             0               1           0   \n",
       "4                       0             0               1           0   \n",
       "\n",
       "   lodging_cat_20  lodging_cat_30  lodging_cat_>30  lodging_cat_No  \\\n",
       "0               0               1                0               0   \n",
       "1               0               0                0               1   \n",
       "2               0               0                0               1   \n",
       "3               0               0                0               1   \n",
       "4               0               0                0               1   \n",
       "\n",
       "   Texture_clay_loam  Texture_loam  \n",
       "0                  0             1  \n",
       "1                  1             0  \n",
       "2                  0             1  \n",
       "3                  0             1  \n",
       "4                  0             1  \n",
       "\n",
       "[5 rows x 47 columns]"
      ]
     },
     "execution_count": 157,
     "metadata": {},
     "output_type": "execute_result"
    }
   ],
   "source": [
    "data = pd.get_dummies(df, drop_first=True)\n",
    "data.head()"
   ]
  },
  {
   "cell_type": "code",
   "execution_count": 158,
   "id": "a788233c-8553-46c2-af0e-0cae5de1ff18",
   "metadata": {},
   "outputs": [],
   "source": [
    "# Compute correlation matrix\n",
    "corr_matrix = data.corr()"
   ]
  },
  {
   "cell_type": "code",
   "execution_count": 159,
   "id": "23573d63-49ae-4cac-befb-53648c7785a6",
   "metadata": {},
   "outputs": [],
   "source": [
    "top_corr_features=corr_matrix.index \n",
    "#plt.figure(figsize=(15,15),dpi=300) \n",
    "#plot heat map \n",
    "#g=sns.heatmap(data[top_corr_features].corr(),annot=True,cmap=\"RdYlGn\")"
   ]
  },
  {
   "cell_type": "markdown",
   "id": "97f04a50-1008-42d2-8af8-5038eb2763ee",
   "metadata": {},
   "source": [
    "### Data preparation and feature importance"
   ]
  },
  {
   "cell_type": "code",
   "execution_count": 160,
   "id": "a1a5bf37-df32-487c-a3e9-327d824faab9",
   "metadata": {},
   "outputs": [],
   "source": [
    "y = data[\"cc_yield\"]\n",
    "X = data.drop(\"cc_yield\", axis=1)"
   ]
  },
  {
   "cell_type": "code",
   "execution_count": 161,
   "id": "cd2f4a05-5760-4962-9841-c30a8d91df84",
   "metadata": {},
   "outputs": [
    {
     "data": {
      "text/plain": [
       "ExtraTreesRegressor()"
      ]
     },
     "execution_count": 161,
     "metadata": {},
     "output_type": "execute_result"
    }
   ],
   "source": [
    "#Feature importance\n",
    "model = ExtraTreesRegressor()\n",
    "model.fit(X,y)"
   ]
  },
  {
   "cell_type": "code",
   "execution_count": 162,
   "id": "fd05f567-369d-4273-8901-0a3feeb95bb6",
   "metadata": {},
   "outputs": [
    {
     "data": {
      "image/png": "[encoded data removed]",
      "text/plain": [
       "<Figure size 2100x1500 with 1 Axes>"
      ]
     },
     "metadata": {},
     "output_type": "display_data"
    }
   ],
   "source": [
    "#Plot graph of feature importances for better visualization\n",
    "plt.figure(figsize=(7,5), dpi=300)\n",
    "feature_importances = pd.Series(model.feature_importances_, index=model.feature_names_in_)\n",
    "feature_importances.nlargest(5).plot(kind='barh')\n",
    "plt.show()"
   ]
  },
  {
   "cell_type": "code",
   "execution_count": 163,
   "id": "c164d844-c9d9-480e-95cb-f5a9b05f6e46",
   "metadata": {},
   "outputs": [],
   "source": [
    "# Select the most important features\n",
    "X = X[model.feature_names_in_]"
   ]
  },
  {
   "cell_type": "code",
   "execution_count": 164,
   "id": "476a71ca-6a03-4cd4-8dd0-257299a1bafa",
   "metadata": {},
   "outputs": [],
   "source": [
    "#Split data into train and test splits\n",
    "X_train, X_test, y_train, y_test = train_test_split(X, y, test_size=0.2)"
   ]
  },
  {
   "cell_type": "code",
   "execution_count": 165,
   "id": "61c8d33a-9311-4141-9c26-4f5a4d31d106",
   "metadata": {},
   "outputs": [],
   "source": [
    "# Reshape y train and test\n",
    "y_train = np.expand_dims(y_train, axis=1)\n",
    "y_test = np.expand_dims(y_test, axis=1)"
   ]
  },
  {
   "cell_type": "code",
   "execution_count": 166,
   "id": "358b7635-d607-46ca-93c9-c8efbd08cb39",
   "metadata": {},
   "outputs": [],
   "source": [
    "#Standardize the X data\n",
    "scaler = StandardScaler()\n",
    "X_train_scaled = scaler.fit_transform(X_train)\n",
    "X_test_scaled = scaler.transform(X_test)"
   ]
  },
  {
   "cell_type": "code",
   "execution_count": 167,
   "id": "475f00f0-e7fc-453e-acbe-38641ad0344b",
   "metadata": {},
   "outputs": [],
   "source": [
    "# Standardize the y data\n",
    "sc = StandardScaler()\n",
    "y_train_scaled = sc.fit_transform(y_train)\n",
    "y_test_scaled = sc.transform(y_test)"
   ]
  },
  {
   "cell_type": "code",
   "execution_count": 168,
   "id": "023ff866-96b6-4a4b-97ce-8aac675a92ef",
   "metadata": {},
   "outputs": [
    {
     "data": {
      "text/plain": [
       "array([[1.35389172],\n",
       "       [0.12123632],\n",
       "       [0.1846755 ],\n",
       "       ...,\n",
       "       [0.75562807],\n",
       "       [1.39001982],\n",
       "       [0.33270024]])"
      ]
     },
     "execution_count": 168,
     "metadata": {},
     "output_type": "execute_result"
    }
   ],
   "source": [
    "y_train_scaled"
   ]
  },
  {
   "cell_type": "markdown",
   "id": "ba2e0ade-bb03-4a01-ac9c-d0363dead051",
   "metadata": {},
   "source": [
    "## Model building"
   ]
  },
  {
   "cell_type": "code",
   "execution_count": 169,
   "id": "c3b1d152-a89e-4d54-a200-dbb6d49a8b50",
   "metadata": {},
   "outputs": [],
   "source": [
    "# Random Forest\n",
    "rf_model = RandomForestRegressor()"
   ]
  },
  {
   "cell_type": "code",
   "execution_count": 170,
   "id": "1cd2a340-646d-4dfe-a628-ccabfede91e4",
   "metadata": {},
   "outputs": [],
   "source": [
    "#Hyperparameter tuning using Randomized Search CV\n",
    "\n",
    "# Number of trees in random forest\n",
    "n_estimators = [int(x) for x in np.linspace(start = 100, stop = 1200, num = 12)]\n",
    "# Number of features to consider at every split\n",
    "max_features = ['auto', 'sqrt']\n",
    "# Maximum number of levels in tree\n",
    "max_depth = [int(x) for x in np.linspace(5, 30, num = 6)]\n",
    "# max_depth.append(None)\n",
    "# Minimum number of samples required to split a node\n",
    "min_samples_split = [2, 5, 10, 15, 100]\n",
    "# Minimum number of samples required at each leaf node\n",
    "min_samples_leaf = [1, 2, 5, 10]"
   ]
  },
  {
   "cell_type": "code",
   "execution_count": 171,
   "id": "961c56c2-7210-475e-8e01-aede6feb34df",
   "metadata": {},
   "outputs": [],
   "source": [
    "random_grid = {\n",
    "    'n_estimators':n_estimators,\n",
    "    'max_features':max_features,\n",
    "    'max_depth':max_depth,\n",
    "    'min_samples_split':min_samples_split,\n",
    "    'min_samples_leaf':min_samples_leaf\n",
    "}"
   ]
  },
  {
   "cell_type": "code",
   "execution_count": 172,
   "id": "aa424290-ce9e-4a36-87e9-e58454a1b3b2",
   "metadata": {},
   "outputs": [],
   "source": [
    "#verbose parameter shows the details when training is on going\n",
    "rf_random = RandomizedSearchCV(rf_model, param_distributions=random_grid, scoring='neg_mean_squared_error', n_iter=10, cv=5, random_state=42)"
   ]
  },
  {
   "cell_type": "code",
   "execution_count": 173,
   "id": "f30894bf-a714-4808-bec5-8e8ac6ac20c0",
   "metadata": {},
   "outputs": [],
   "source": [
    "# Flatten the y data\n",
    "y_train_scaled = y_train_scaled.ravel()\n",
    "y_test_scaled = y_test_scaled.ravel()"
   ]
  },
  {
   "cell_type": "code",
   "execution_count": 174,
   "id": "87a32b47-aedc-42db-97d1-b5a388b0a2b6",
   "metadata": {},
   "outputs": [
    {
     "data": {
      "text/plain": [
       "RandomizedSearchCV(cv=5, estimator=RandomForestRegressor(),\n",
       "                   param_distributions={'max_depth': [5, 10, 15, 20, 25, 30],\n",
       "                                        'max_features': ['auto', 'sqrt'],\n",
       "                                        'min_samples_leaf': [1, 2, 5, 10],\n",
       "                                        'min_samples_split': [2, 5, 10, 15,\n",
       "                                                              100],\n",
       "                                        'n_estimators': [100, 200, 300, 400,\n",
       "                                                         500, 600, 700, 800,\n",
       "                                                         900, 1000, 1100,\n",
       "                                                         1200]},\n",
       "                   random_state=42, scoring='neg_mean_squared_error')"
      ]
     },
     "execution_count": 174,
     "metadata": {},
     "output_type": "execute_result"
    }
   ],
   "source": [
    "# Train the model\n",
    "rf_random.fit(X_train_scaled,y_train_scaled)"
   ]
  },
  {
   "cell_type": "code",
   "execution_count": 175,
   "id": "beba81a4-0da3-49c1-9075-7c85a6fb7c45",
   "metadata": {},
   "outputs": [
    {
     "data": {
      "text/plain": [
       "RandomForestRegressor(max_depth=25, max_features='sqrt', n_estimators=1000)"
      ]
     },
     "execution_count": 175,
     "metadata": {},
     "output_type": "execute_result"
    }
   ],
   "source": [
    "rf_random.best_estimator_"
   ]
  },
  {
   "cell_type": "code",
   "execution_count": 176,
   "id": "7b44c3ab-9b17-4dfc-b68a-067ef757e149",
   "metadata": {},
   "outputs": [],
   "source": [
    "predictions = rf_random.predict(X_test_scaled)"
   ]
  },
  {
   "cell_type": "code",
   "execution_count": 177,
   "id": "1d90d7ca-6e22-4258-9fc8-c22ac43c1b2c",
   "metadata": {},
   "outputs": [
    {
     "data": {
      "text/plain": [
       "0.5532450617439428"
      ]
     },
     "execution_count": 177,
     "metadata": {},
     "output_type": "execute_result"
    }
   ],
   "source": [
    "r2_score(y_test_scaled, predictions)"
   ]
  },
  {
   "cell_type": "markdown",
   "id": "84a01665-ddb1-4fea-905a-cef0f456e371",
   "metadata": {},
   "source": [
    "### Ensembling Technique"
   ]
  },
  {
   "cell_type": "code",
   "execution_count": 31,
   "id": "7ee14c31-b8cc-4c80-8267-803b54720ca6",
   "metadata": {},
   "outputs": [],
   "source": [
    "from sklearn.ensemble import RandomForestRegressor, GradientBoostingRegressor, VotingRegressor\n",
    "from sklearn.neighbors import KNeighborsRegressor\n",
    "from sklearn.svm import SVR"
   ]
  },
  {
   "cell_type": "code",
   "execution_count": 32,
   "id": "9066d9e1-efa8-4360-ac32-195609164a58",
   "metadata": {},
   "outputs": [],
   "source": [
    "# Create the models\n",
    "rf = RandomForestRegressor(n_estimators=1000, max_depth=25)\n",
    "svr = SVR(kernel='rbf')\n",
    "knn = KNeighborsRegressor()\n",
    "\n",
    "# Create the ensemble model\n",
    "ensemble = VotingRegressor(estimators=[('rf', rf), ('svr', svr), ('knn', knn)])"
   ]
  },
  {
   "cell_type": "code",
   "execution_count": 33,
   "id": "6dcbf58c-aaff-41e4-861c-ff601c15f133",
   "metadata": {},
   "outputs": [
    {
     "data": {
      "text/plain": [
       "VotingRegressor(estimators=[('rf',\n",
       "                             RandomForestRegressor(max_depth=25,\n",
       "                                                   n_estimators=1000)),\n",
       "                            ('svr', SVR()), ('knn', KNeighborsRegressor())])"
      ]
     },
     "execution_count": 33,
     "metadata": {},
     "output_type": "execute_result"
    }
   ],
   "source": [
    "ensemble.fit(X_train_scaled,y_train_scaled)"
   ]
  },
  {
   "cell_type": "code",
   "execution_count": 34,
   "id": "8d830244-831b-4dd3-8e4c-a15b8de1a1d9",
   "metadata": {},
   "outputs": [
    {
     "data": {
      "text/plain": [
       "0.5503747250982971"
      ]
     },
     "execution_count": 34,
     "metadata": {},
     "output_type": "execute_result"
    }
   ],
   "source": [
    "predictions = ensemble.predict(X_test_scaled)\n",
    "r2_score(y_test_scaled, predictions)"
   ]
  },
  {
   "cell_type": "markdown",
   "id": "15efc2e8-b66c-465f-86ea-190554d2d7ac",
   "metadata": {},
   "source": [
    "### CNN"
   ]
  },
  {
   "cell_type": "code",
   "execution_count": 105,
   "id": "f5a6ce41-5a96-4a77-a163-b33a32ac9fd2",
   "metadata": {},
   "outputs": [],
   "source": [
    "def convModel2(feature_count,x_dim):\n",
    "    model = Sequential()\n",
    "    model.add(Dropout(0.002, input_shape=(feature_count, x_dim)))\n",
    "    model.add(Conv1D(filters=24, kernel_size=15, use_bias=False, strides=2, kernel_initializer=\"he_normal\"))\n",
    "    model.add(BatchNormalization())\n",
    "    model.add(Activation(\"relu\"))\n",
    "    model.add(MaxPooling1D(pool_size=2,strides=1))\n",
    "    model.add(SpatialDropout1D(0.02))\n",
    "\n",
    "    model.add(Conv1D(filters=48,kernel_size=15 , use_bias=False, strides=2, kernel_initializer=\"he_normal\"))\n",
    "    model.add(BatchNormalization())\n",
    "    model.add(Activation(\"relu\"))\n",
    "    model.add(MaxPooling1D(pool_size=2, strides=1))\n",
    "    model.add(SpatialDropout1D(0.02))\n",
    "\n",
    "    model.add(Conv1D(filters=96,kernel_size=15, use_bias=False, strides=2, kernel_initializer=\"he_normal\"))\n",
    "    model.add(BatchNormalization())\n",
    "    model.add(Activation(\"relu\"))\n",
    "    model.add(MaxPooling1D(pool_size=2,strides=1))\n",
    "    model.add(SpatialDropout1D(0.02))\n",
    "\n",
    "\n",
    "    model.add(Flatten())\n",
    "    model.add(Dense(512, kernel_regularizer=l1(1e-7), bias_regularizer=l1(1e-7)))\n",
    "    model.add(BatchNormalization())\n",
    "    model.add(Activation(\"relu\"))\n",
    "\n",
    "    \n",
    "    model.add(Dense(128, kernel_regularizer=l1(1e-7), bias_regularizer=l1(1e-7)))\n",
    "    model.add(BatchNormalization())\n",
    "    model.add(Activation(\"relu\"))\n",
    "    model.add(Dropout(0.02))\n",
    "\n",
    "    model.add(Dense(1,activation='sigmoid'))\n",
    "    return model"
   ]
  },
  {
   "cell_type": "markdown",
   "id": "93235bae-1b5f-4030-8231-1b20f75cc9fb",
   "metadata": {},
   "source": [
    "### Plot the shap values"
   ]
  },
  {
   "cell_type": "code",
   "execution_count": 80,
   "id": "ede6cd32-3292-4e35-a976-ae7d50a56472",
   "metadata": {},
   "outputs": [],
   "source": [
    "from shap import TreeExplainer, plots"
   ]
  },
  {
   "cell_type": "code",
   "execution_count": null,
   "id": "6f32bb97-6270-40ba-9a42-237aadf37c52",
   "metadata": {},
   "outputs": [],
   "source": [
    "# Calculate the SHAP values\n",
    "explainer = TreeExplainer(rf_random)\n",
    "shap_values = explainer.shap_values(data.drop('cc_yield',axis=1))\n",
    "\n",
    "# Plot the SHAP values\n",
    "plot_shap(shap_values, df)"
   ]
  }
 ],
 "metadata": {
  "kernelspec": {
   "display_name": "Python 3 (ipykernel)",
   "language": "python",
   "name": "python3"
  },
  "language_info": {
   "codemirror_mode": {
    "name": "ipython",
    "version": 3
   },
   "file_extension": ".py",
   "mimetype": "text/x-python",
   "name": "python",
   "nbconvert_exporter": "python",
   "pygments_lexer": "ipython3",
   "version": "3.9.13"
  }
 },
 "nbformat": 4,
 "nbformat_minor": 5
}
